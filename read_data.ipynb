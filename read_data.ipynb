{
 "cells": [
  {
   "cell_type": "code",
   "execution_count": 32,
   "id": "392aa67b",
   "metadata": {},
   "outputs": [
    {
     "name": "stdout",
     "output_type": "stream",
     "text": [
      "load_end\n"
     ]
    }
   ],
   "source": [
    "import os\n",
    "import pandas as pd\n",
    "from sklearn.model_selection import train_test_split\n",
    "from sklearn.ensemble import RandomForestClassifier\n",
    "\n",
    "#path\n",
    "folder_path = r'C:\\Users\\markw\\Desktop\\mark_user\\AI_project\\dataset'\n",
    "excel_files = [f for f in os.listdir(folder_path) if f.endswith('.csv') or f.endswith('.xls')]\n",
    "\n",
    "all_data = []\n",
    "#load data\n",
    "for file in excel_files:\n",
    "    file_path = os.path.join(folder_path, file)\n",
    "    #print(f\"處理檔案: {excel_file}\")\n",
    "    \n",
    "    df = pd.read_csv(file_path)\n",
    "    df.columns = df.columns.str.strip()\n",
    "    all_data.append(df)\n",
    "    \n",
    "print('read completed')"
   ]
  },
  {
   "cell_type": "code",
   "execution_count": 44,
   "id": "29942986",
   "metadata": {},
   "outputs": [
    {
     "name": "stdout",
     "output_type": "stream",
     "text": [
      "       LocationCode  WindSpeed(m/s)  Pressure(hpa)  Temperature(°C)  \\\n",
      "0                11             0.0        1017.09            16.03   \n",
      "1                11             0.0        1017.07            16.00   \n",
      "2                11             0.0        1017.05            15.98   \n",
      "3                11             0.0        1017.06            15.97   \n",
      "4                11             0.0        1017.06            15.94   \n",
      "...             ...             ...            ...              ...   \n",
      "56963            11             0.0        1006.85            32.26   \n",
      "56964            11             0.0        1006.83            32.28   \n",
      "56965            11             0.0        1006.85            32.30   \n",
      "56966            11             0.0        1006.88            32.29   \n",
      "56967            11             0.0        1006.88            32.29   \n",
      "\n",
      "       Humidity(%)  Sunlight(Lux)  \n",
      "0            87.67          21.67  \n",
      "1            87.51          25.83  \n",
      "2            87.89          31.67  \n",
      "3            88.06          39.17  \n",
      "4            87.97          47.50  \n",
      "...            ...            ...  \n",
      "56963        97.14         831.67  \n",
      "56964        97.51         835.83  \n",
      "56965        96.25         832.50  \n",
      "56966        95.22         812.50  \n",
      "56967        95.07         817.50  \n",
      "\n",
      "[56968 rows x 6 columns]\n",
      "0        0.00\n",
      "1        0.01\n",
      "2        0.01\n",
      "3        0.00\n",
      "4        0.01\n",
      "         ... \n",
      "56963    0.29\n",
      "56964    0.24\n",
      "56965    0.23\n",
      "56966    0.23\n",
      "56967    0.23\n",
      "Name: Power(mW), Length: 56968, dtype: float64\n"
     ]
    }
   ],
   "source": [
    "feature = []\n",
    "label = []\n",
    "\n",
    "for df in all_data:\n",
    "    \n",
    "    X = df[['LocationCode', 'WindSpeed(m/s)', 'Pressure(hpa)', 'Temperature(°C)', 'Humidity(%)', 'Sunlight(Lux)']]\n",
    "    y = df['Power(mW)']\n",
    "    \n",
    "    feature.append(X)\n",
    "    label.append(y)\n",
    "\n",
    "print(feature[1])\n",
    "print(label[1])"
   ]
  }
 ],
 "metadata": {
  "kernelspec": {
   "display_name": "Python 3 (ipykernel)",
   "language": "python",
   "name": "python3"
  },
  "language_info": {
   "codemirror_mode": {
    "name": "ipython",
    "version": 3
   },
   "file_extension": ".py",
   "mimetype": "text/x-python",
   "name": "python",
   "nbconvert_exporter": "python",
   "pygments_lexer": "ipython3",
   "version": "3.11.5"
  }
 },
 "nbformat": 4,
 "nbformat_minor": 5
}
